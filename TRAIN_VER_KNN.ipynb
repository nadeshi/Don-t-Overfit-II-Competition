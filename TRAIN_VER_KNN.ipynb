{
 "cells": [
  {
   "cell_type": "code",
   "execution_count": 1,
   "metadata": {},
   "outputs": [],
   "source": [
    "import numpy as np\n",
    "import pandas as pd\n",
    "from sklearn.metrics import accuracy_score\n",
    "from sklearn.metrics import classification_report, confusion_matrix\n",
    "from sklearn.model_selection import GridSearchCV\n",
    "from sklearn.model_selection import RepeatedStratifiedKFold\n",
    "from sklearn.model_selection import train_test_split\n",
    "from sklearn.preprocessing import RobustScaler\n",
    "\n",
    "from sklearn.feature_selection import RFE\n",
    "from sklearn.feature_selection import RFECV\n",
    "\n",
    "from sklearn.neighbors import KNeighborsClassifier\n",
    "from sklearn.linear_model import LogisticRegression"
   ]
  },
  {
   "cell_type": "code",
   "execution_count": 2,
   "metadata": {},
   "outputs": [],
   "source": [
    "train_csv = pd.read_csv(\"train_old.csv\")\n",
    "test_csv = pd.read_csv(\"test_old.csv\")"
   ]
  },
  {
   "cell_type": "code",
   "execution_count": 3,
   "metadata": {},
   "outputs": [],
   "source": [
    "y_temp = train_csv[\"target\"]\n",
    "x_temp = train_csv.drop([\"id\", \"target\"], axis = 1)"
   ]
  },
  {
   "cell_type": "code",
   "execution_count": 4,
   "metadata": {},
   "outputs": [
    {
     "name": "stdout",
     "output_type": "stream",
     "text": [
      "Best 10 feature by correlation: Index(['33', '65', '24', '183', '199', '201', '30', '289', '114', '164'], dtype='object')\n"
     ]
    }
   ],
   "source": [
    "#Pearson correlation coefficient\n",
    "correlation = train_csv.corr()\n",
    "col_corr = correlation.nlargest(11 ,'target')['target'].index[1:]\n",
    "print('Best 10 feature by correlation:',col_corr)"
   ]
  },
  {
   "cell_type": "code",
   "execution_count": 5,
   "metadata": {},
   "outputs": [
    {
     "name": "stdout",
     "output_type": "stream",
     "text": [
      "Best 10 feature by rfe: Index(['33', '65', '73', '80', '91', '108', '189', '194', '199', '217'], dtype='object')\n"
     ]
    }
   ],
   "source": [
    "#Recursive feature elimination (RFE)\n",
    "estimator = LogisticRegression()     \n",
    "rfe = RFE(estimator=estimator, n_features_to_select=10, step=1)\n",
    "rfe = rfe.fit(x_temp, y_temp)\n",
    "col_rfe = x_temp.columns[rfe.support_]\n",
    "print('Best 10 feature by rfe:',col_rfe)"
   ]
  },
  {
   "cell_type": "code",
   "execution_count": 6,
   "metadata": {},
   "outputs": [
    {
     "name": "stdout",
     "output_type": "stream",
     "text": [
      "Optimal number of features : 6\n",
      "Best features : Index(['33', '65', '73', '91', '199', '217'], dtype='object')\n"
     ]
    }
   ],
   "source": [
    "#Recursive feature elimination with cross validation\n",
    "estimator = LogisticRegression()   \n",
    "rfecv = RFECV(estimator=estimator, step=1, cv=5,scoring='accuracy')  \n",
    "rfecv = rfecv.fit(x_temp, y_temp)\n",
    "\n",
    "col_rfecv = x_temp.columns[rfecv.support_]\n",
    "print('Optimal number of features :', rfecv.n_features_)\n",
    "print('Best features :', col_rfecv)"
   ]
  },
  {
   "cell_type": "code",
   "execution_count": 7,
   "metadata": {},
   "outputs": [],
   "source": [
    "col = col_rfecv\n",
    "x = train_csv[col].values\n",
    "test = test_csv[col].values\n",
    "y = train_csv['target']"
   ]
  },
  {
   "cell_type": "code",
   "execution_count": 8,
   "metadata": {},
   "outputs": [],
   "source": [
    "scaler = RobustScaler()\n",
    "x_final = scaler.fit_transform(x)\n",
    "test_final = scaler.fit_transform(test)\n",
    "x_final = pd.DataFrame(x_final)\n",
    "test_final = pd.DataFrame(test_final)"
   ]
  },
  {
   "cell_type": "code",
   "execution_count": 9,
   "metadata": {},
   "outputs": [],
   "source": [
    "X_train, X_test, y_train, y_test = train_test_split(x_final, y, test_size=0.15, random_state = 42) "
   ]
  },
  {
   "cell_type": "code",
   "execution_count": 10,
   "metadata": {},
   "outputs": [],
   "source": [
    "cv = RepeatedStratifiedKFold(n_splits=10, n_repeats=3, random_state=1)"
   ]
  },
  {
   "cell_type": "code",
   "execution_count": 11,
   "metadata": {},
   "outputs": [
    {
     "name": "stdout",
     "output_type": "stream",
     "text": [
      "Best Parameters: {'metric': 'euclidean', 'n_neighbors': 20, 'weights': 'uniform'}\n",
      "Accuracy for our training dataset with tuning is : 77.43%\n"
     ]
    }
   ],
   "source": [
    "estimator_KNN = KNeighborsClassifier()\n",
    "param_grid = {\n",
    "    'n_neighbors':list(range(1, 21)),\n",
    "    'metric':['euclidean', 'manhattan', 'minkowski'],\n",
    "    'weights':['uniform', 'distance']}\n",
    "cv = RepeatedStratifiedKFold(n_splits=10, n_repeats=3, random_state=1)\n",
    "grid = GridSearchCV(estimator_KNN, param_grid, n_jobs=-1, cv=cv, scoring='accuracy',error_score=0)\n",
    "grid_search=grid.fit(X_train, y_train)\n",
    "print(\"Best Parameters: \" + str(grid_search.best_params_))\n",
    "accuracy = grid_search.best_score_ *100\n",
    "print(\"Accuracy for our training dataset with tuning is : {:.2f}%\".format(accuracy))\n",
    "best_n_neighbors = grid_search.best_params_['n_neighbors']\n",
    "best_metric = grid_search.best_params_['metric']\n",
    "best_weights = grid_search.best_params_['weights']"
   ]
  },
  {
   "cell_type": "code",
   "execution_count": 12,
   "metadata": {},
   "outputs": [
    {
     "name": "stdout",
     "output_type": "stream",
     "text": [
      "-------------------------------------\n",
      "Results of KNeighborsClassifier:\n",
      "[[11  0]\n",
      " [ 2 25]]\n",
      "              precision    recall  f1-score   support\n",
      "\n",
      "         0.0       0.85      1.00      0.92        11\n",
      "         1.0       1.00      0.93      0.96        27\n",
      "\n",
      "    accuracy                           0.95        38\n",
      "   macro avg       0.92      0.96      0.94        38\n",
      "weighted avg       0.96      0.95      0.95        38\n",
      "\n",
      "Prediction accuracy 94.73684210526315 %\n",
      "Train score 0.8113207547169812\n",
      "-------------------------------------\n"
     ]
    }
   ],
   "source": [
    "KNN = KNeighborsClassifier(n_neighbors=best_n_neighbors, weights=best_weights, metric=best_metric)\n",
    "KNN.fit(X_train, y_train)\n",
    "y_predict = KNN.predict(X_test)\n",
    "print(\"-------------------------------------\")\n",
    "print(\"Results of KNeighborsClassifier:\")\n",
    "print(confusion_matrix(y_test, y_predict))\n",
    "print(classification_report(y_test, y_predict))\n",
    "accuracy_knn = accuracy_score(y_test,  y_predict)\n",
    "print('Prediction accuracy',accuracy_knn*100,'%')\n",
    "print('Train score' , KNN.score(X_train, y_train))\n",
    "print(\"-------------------------------------\")"
   ]
  },
  {
   "cell_type": "code",
   "execution_count": 13,
   "metadata": {},
   "outputs": [
    {
     "data": {
      "text/plain": [
       "Text(0.5, 1.0, 'Results of KNeighborsClassifier')"
      ]
     },
     "execution_count": 13,
     "metadata": {},
     "output_type": "execute_result"
    },
    {
     "data": {
      "image/png": "[encoded data removed]",
      "text/plain": [
       "<Figure size 640x480 with 1 Axes>"
      ]
     },
     "metadata": {},
     "output_type": "display_data"
    }
   ],
   "source": [
    "ypred_KNN = KNN.predict(test_final)\n",
    "output_KNN = pd.DataFrame({'id':range(250, 20000),'target': ypred_KNN})\n",
    "output_KNN.to_csv('submission_KNN.csv', index=False)\n",
    "output_KNN['target'].hist().set_title(\"Results of KNeighborsClassifier\")"
   ]
  },
  {
   "cell_type": "code",
   "execution_count": null,
   "metadata": {},
   "outputs": [],
   "source": []
  }
 ],
 "metadata": {
  "kernelspec": {
   "display_name": "Python 3 (ipykernel)",
   "language": "python",
   "name": "python3"
  },
  "language_info": {
   "codemirror_mode": {
    "name": "ipython",
    "version": 3
   },
   "file_extension": ".py",
   "mimetype": "text/x-python",
   "name": "python",
   "nbconvert_exporter": "python",
   "pygments_lexer": "ipython3",
   "version": "3.10.6"
  },
  "vscode": {
   "interpreter": {
    "hash": "6973a4e7042c0c9eb97e30a4a41b69225749226c07967c481ae41b1f229fa088"
   }
  }
 },
 "nbformat": 4,
 "nbformat_minor": 2
}
