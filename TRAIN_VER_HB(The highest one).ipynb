{
 "cells": [
  {
   "cell_type": "code",
   "execution_count": 1,
   "metadata": {},
   "outputs": [],
   "source": [
    "import numpy as np\n",
    "import pandas as pd\n",
    "from sklearn.metrics import accuracy_score\n",
    "from sklearn.feature_selection import RFECV\n",
    "from sklearn.metrics import classification_report, confusion_matrix\n",
    "from sklearn.model_selection import GridSearchCV\n",
    "from sklearn.model_selection import RepeatedStratifiedKFold\n",
    "from sklearn.model_selection import train_test_split\n",
    "from sklearn.preprocessing import RobustScaler\n",
    "from sklearn.linear_model import LogisticRegression\n",
    "from sklearn.svm import SVC"
   ]
  },
  {
   "cell_type": "code",
   "execution_count": 2,
   "metadata": {},
   "outputs": [],
   "source": [
    "train_csv = pd.read_csv(\"train_old.csv\")\n",
    "test_csv = pd.read_csv(\"test_old.csv\")"
   ]
  },
  {
   "cell_type": "code",
   "execution_count": 3,
   "metadata": {},
   "outputs": [],
   "source": [
    "y_temp = train_csv[\"target\"]\n",
    "x_temp = train_csv.drop([\"id\", \"target\"], axis = 1)"
   ]
  },
  {
   "cell_type": "code",
   "execution_count": 4,
   "metadata": {},
   "outputs": [
    {
     "name": "stdout",
     "output_type": "stream",
     "text": [
      "Optimal number of features : 6\n",
      "Best features : Index(['33', '65', '73', '91', '199', '217'], dtype='object')\n"
     ]
    }
   ],
   "source": [
    "#Recursive feature elimination with cross validation\n",
    "estimator = LogisticRegression()   \n",
    "rfecv = RFECV(estimator=estimator, step=1, cv=5,scoring='accuracy') \n",
    "rfecv = rfecv.fit(x_temp, y_temp)\n",
    "\n",
    "col_rfecv = x_temp.columns[rfecv.support_]\n",
    "print('Optimal number of features :', rfecv.n_features_)\n",
    "print('Best features :', col_rfecv)"
   ]
  },
  {
   "cell_type": "code",
   "execution_count": 5,
   "metadata": {},
   "outputs": [],
   "source": [
    "x = train_csv[col_rfecv].values\n",
    "test = test_csv[col_rfecv].values\n",
    "y = train_csv['target']"
   ]
  },
  {
   "cell_type": "code",
   "execution_count": 6,
   "metadata": {},
   "outputs": [],
   "source": [
    "scaler = RobustScaler()\n",
    "x_final = scaler.fit_transform(x)\n",
    "test_final = scaler.fit_transform(test)\n",
    "x_final = pd.DataFrame(x_final)\n",
    "test_final = pd.DataFrame(test_final)"
   ]
  },
  {
   "cell_type": "code",
   "execution_count": 7,
   "metadata": {},
   "outputs": [],
   "source": [
    "X_train, X_test, y_train, y_test = train_test_split(x_final, y, test_size=0.15, random_state = 42) "
   ]
  },
  {
   "cell_type": "code",
   "execution_count": 11,
   "metadata": {},
   "outputs": [],
   "source": [
    "#####LogisticRegression"
   ]
  },
  {
   "cell_type": "code",
   "execution_count": 12,
   "metadata": {},
   "outputs": [
    {
     "name": "stdout",
     "output_type": "stream",
     "text": [
      "Best Parameters: {'C': 0.1, 'penalty': 'l2', 'solver': 'liblinear'}\n",
      "Accuracy for our training dataset with tuning is : 76.32%\n"
     ]
    }
   ],
   "source": [
    "estimator_LR = LogisticRegression()\n",
    "C= np.arange(0.05, 1, 0.05).round(2).tolist()\n",
    "param_grid = {\n",
    "    'solver':['newton-cg', 'lbfgs', 'liblinear'],\n",
    "    'penalty':['l2'],\n",
    "    'C':C}\n",
    "grid = GridSearchCV(estimator_LR, param_grid, n_jobs=-1, cv=cv, scoring='accuracy',error_score=0)\n",
    "grid_search=grid.fit(X_train, y_train)\n",
    "print(\"Best Parameters: \" + str(grid_search.best_params_))\n",
    "accuracy_LR = grid_search.best_score_ *100\n",
    "print(\"Accuracy for our training dataset with tuning is : {:.2f}%\".format(accuracy_LR))\n",
    "best_solver = grid_search.best_params_['solver']\n",
    "best_penalty = grid_search.best_params_['penalty']\n",
    "best_C = grid_search.best_params_['C']"
   ]
  },
  {
   "cell_type": "code",
   "execution_count": 13,
   "metadata": {},
   "outputs": [],
   "source": [
    "LR = LogisticRegression(solver=best_solver , C =best_C , penalty=best_penalty)\n",
    "LR.fit(X_train, y_train) \n",
    "ypred_LR = LR.predict_proba(test_final)[:,1]"
   ]
  },
  {
   "cell_type": "code",
   "execution_count": 14,
   "metadata": {},
   "outputs": [],
   "source": [
    "#####SVC"
   ]
  },
  {
   "cell_type": "code",
   "execution_count": 15,
   "metadata": {},
   "outputs": [
    {
     "name": "stdout",
     "output_type": "stream",
     "text": [
      "Best Parameters: {'C': 0.25, 'kernel': 'sigmoid'}\n",
      "Accuracy for our training dataset with tuning is : 77.59%\n"
     ]
    }
   ],
   "source": [
    "estimator_SVC = SVC()\n",
    "C= np.arange(0.05, 1, 0.05).round(2).tolist()\n",
    "param_grid = {\n",
    "    'kernel' : ['linear','poly','rbf', 'sigmoid'],\n",
    "    'C':C}\n",
    "grid = GridSearchCV(estimator_SVC, param_grid, n_jobs=-1, cv=cv, scoring='accuracy',error_score=0)\n",
    "grid_search=grid.fit(X_train, y_train)\n",
    "print(\"Best Parameters: \" + str(grid_search.best_params_))\n",
    "accuracy_SVC = grid_search.best_score_ *100\n",
    "print(\"Accuracy for our training dataset with tuning is : {:.2f}%\".format(accuracy_SVC))\n",
    "best_kernel = grid_search.best_params_['kernel']\n",
    "best_C = grid_search.best_params_['C']"
   ]
  },
  {
   "cell_type": "code",
   "execution_count": 16,
   "metadata": {},
   "outputs": [],
   "source": [
    "SVC= SVC(C=best_C,kernel= best_kernel, probability=True)\n",
    "SVC.fit(X_train, y_train) \n",
    "ypred_SVC = SVC.predict_proba(test_final)[:,1]"
   ]
  },
  {
   "cell_type": "code",
   "execution_count": 34,
   "metadata": {},
   "outputs": [
    {
     "data": {
      "text/plain": [
       "Text(0.5, 1.0, 'Results of Hybrid')"
      ]
     },
     "execution_count": 34,
     "metadata": {},
     "output_type": "execute_result"
    },
    {
     "data": {
      "image/png": "[encoded data removed]",
      "text/plain": [
       "<Figure size 640x480 with 1 Axes>"
      ]
     },
     "metadata": {},
     "output_type": "display_data"
    }
   ],
   "source": [
    "final_preds = ( ypred_SVC * 0.4 + ypred_LR  * 0.6 )\n",
    "output_BC = pd.DataFrame({'id':range(250, 20000),'target': final_preds})\n",
    "output_BC.to_csv('submission_HB.csv', index=False)\n",
    "output_BC['target'].hist().set_title(\"Results of Hybrid\")"
   ]
  },
  {
   "cell_type": "code",
   "execution_count": null,
   "metadata": {},
   "outputs": [],
   "source": []
  }
 ],
 "metadata": {
  "kernelspec": {
   "display_name": "Python 3 (ipykernel)",
   "language": "python",
   "name": "python3"
  },
  "language_info": {
   "codemirror_mode": {
    "name": "ipython",
    "version": 3
   },
   "file_extension": ".py",
   "mimetype": "text/x-python",
   "name": "python",
   "nbconvert_exporter": "python",
   "pygments_lexer": "ipython3",
   "version": "3.10.6"
  },
  "vscode": {
   "interpreter": {
    "hash": "6973a4e7042c0c9eb97e30a4a41b69225749226c07967c481ae41b1f229fa088"
   }
  }
 },
 "nbformat": 4,
 "nbformat_minor": 2
}
