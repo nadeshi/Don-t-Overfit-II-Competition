{
 "cells": [
  {
   "cell_type": "code",
   "execution_count": 1,
   "metadata": {},
   "outputs": [],
   "source": [
    "import numpy as np\n",
    "import pandas as pd\n",
    "from sklearn.metrics import accuracy_score\n",
    "from sklearn.metrics import classification_report, confusion_matrix\n",
    "from sklearn.model_selection import GridSearchCV\n",
    "from sklearn.model_selection import RepeatedStratifiedKFold\n",
    "from sklearn.model_selection import train_test_split\n",
    "from sklearn.preprocessing import RobustScaler\n",
    "\n",
    "from sklearn.feature_selection import RFE\n",
    "from sklearn.feature_selection import RFECV\n",
    "\n",
    "from sklearn.linear_model import LogisticRegression"
   ]
  },
  {
   "cell_type": "code",
   "execution_count": 2,
   "metadata": {},
   "outputs": [],
   "source": [
    "train_csv = pd.read_csv(\"train_old.csv\")\n",
    "test_csv = pd.read_csv(\"test_old.csv\")"
   ]
  },
  {
   "cell_type": "code",
   "execution_count": 3,
   "metadata": {},
   "outputs": [],
   "source": [
    "y_temp = train_csv[\"target\"]\n",
    "x_temp = train_csv.drop([\"id\", \"target\"], axis = 1)"
   ]
  },
  {
   "cell_type": "code",
   "execution_count": 4,
   "metadata": {},
   "outputs": [
    {
     "name": "stdout",
     "output_type": "stream",
     "text": [
      "Best 10 feature by correlation: Index(['33', '65', '24', '183', '199', '201', '30', '289', '114', '164'], dtype='object')\n"
     ]
    }
   ],
   "source": [
    "#Pearson correlation coefficient\n",
    "correlation = train_csv.corr()\n",
    "col_corr = correlation.nlargest(11 ,'target')['target'].index[1:]\n",
    "print('Best 10 feature by correlation:',col_corr)"
   ]
  },
  {
   "cell_type": "code",
   "execution_count": 5,
   "metadata": {},
   "outputs": [
    {
     "name": "stdout",
     "output_type": "stream",
     "text": [
      "Best 10 feature by rfe: Index(['33', '65', '73', '80', '91', '108', '189', '194', '199', '217'], dtype='object')\n"
     ]
    }
   ],
   "source": [
    "#Recursive feature elimination (RFE)\n",
    "estimator = LogisticRegression()     \n",
    "rfe = RFE(estimator=estimator, n_features_to_select=10, step=1)\n",
    "rfe = rfe.fit(x_temp, y_temp)\n",
    "col_rfe = x_temp.columns[rfe.support_]\n",
    "print('Best 10 feature by rfe:',col_rfe)"
   ]
  },
  {
   "cell_type": "code",
   "execution_count": 6,
   "metadata": {},
   "outputs": [
    {
     "name": "stdout",
     "output_type": "stream",
     "text": [
      "Optimal number of features : 6\n",
      "Best features : Index(['33', '65', '73', '91', '199', '217'], dtype='object')\n"
     ]
    }
   ],
   "source": [
    "#Recursive feature elimination with cross validation\n",
    "estimator = LogisticRegression()   \n",
    "rfecv = RFECV(estimator=estimator, step=1, cv=5,scoring='accuracy')   \n",
    "rfecv = rfecv.fit(x_temp, y_temp)\n",
    "\n",
    "col_rfecv = x_temp.columns[rfecv.support_]\n",
    "print('Optimal number of features :', rfecv.n_features_)\n",
    "print('Best features :', col_rfecv)"
   ]
  },
  {
   "cell_type": "code",
   "execution_count": 7,
   "metadata": {},
   "outputs": [],
   "source": [
    "col = col_rfecv\n",
    "x = train_csv[col].values\n",
    "test = test_csv[col].values\n",
    "y = train_csv['target']"
   ]
  },
  {
   "cell_type": "code",
   "execution_count": 8,
   "metadata": {},
   "outputs": [],
   "source": [
    "scaler = RobustScaler()\n",
    "x_final = scaler.fit_transform(x)\n",
    "test_final = scaler.fit_transform(test)\n",
    "x_final = pd.DataFrame(x_final)\n",
    "test_final = pd.DataFrame(test_final)"
   ]
  },
  {
   "cell_type": "code",
   "execution_count": 9,
   "metadata": {},
   "outputs": [],
   "source": [
    "X_train, X_test, y_train, y_test = train_test_split(x_final, y, test_size=0.15, random_state = 42) "
   ]
  },
  {
   "cell_type": "code",
   "execution_count": 10,
   "metadata": {},
   "outputs": [],
   "source": [
    "cv = RepeatedStratifiedKFold(n_splits=10, n_repeats=3, random_state=1)"
   ]
  },
  {
   "cell_type": "code",
   "execution_count": 11,
   "metadata": {},
   "outputs": [
    {
     "name": "stdout",
     "output_type": "stream",
     "text": [
      "Best Parameters: {'C': 0.1, 'penalty': 'l2', 'solver': 'liblinear'}\n",
      "Accuracy for our training dataset with tuning is : 76.32%\n"
     ]
    }
   ],
   "source": [
    "estimator_LR = LogisticRegression()\n",
    "C= np.arange(0.05, 1, 0.05).round(2).tolist()\n",
    "param_grid = {\n",
    "    'solver':['newton-cg', 'lbfgs', 'liblinear'],\n",
    "    'penalty':['l2'],\n",
    "    'C':C}\n",
    "grid = GridSearchCV(estimator_LR, param_grid, n_jobs=-1, cv=cv, scoring='accuracy',error_score=0)\n",
    "grid_search=grid.fit(X_train, y_train)\n",
    "print(\"Best Parameters: \" + str(grid_search.best_params_))\n",
    "accuracy = grid_search.best_score_ *100\n",
    "print(\"Accuracy for our training dataset with tuning is : {:.2f}%\".format(accuracy))\n",
    "best_solver = grid_search.best_params_['solver']\n",
    "best_penalty = grid_search.best_params_['penalty']\n",
    "best_C = grid_search.best_params_['C']"
   ]
  },
  {
   "cell_type": "code",
   "execution_count": 12,
   "metadata": {},
   "outputs": [
    {
     "name": "stdout",
     "output_type": "stream",
     "text": [
      "-------------------------------------\n",
      "Results of LogisticRegression:\n",
      "[[11  0]\n",
      " [ 4 23]]\n",
      "              precision    recall  f1-score   support\n",
      "\n",
      "         0.0       0.73      1.00      0.85        11\n",
      "         1.0       1.00      0.85      0.92        27\n",
      "\n",
      "    accuracy                           0.89        38\n",
      "   macro avg       0.87      0.93      0.88        38\n",
      "weighted avg       0.92      0.89      0.90        38\n",
      "\n",
      "Prediction accuracy 89.47368421052632 %\n",
      "Train score 0.7783018867924528\n",
      "-------------------------------------\n"
     ]
    }
   ],
   "source": [
    "LR = LogisticRegression(solver=best_solver , C =best_C , penalty=best_penalty)\n",
    "LR.fit(X_train, y_train) \n",
    "y_predict = LR.predict(X_test)\n",
    "print(\"-------------------------------------\")\n",
    "print(\"Results of LogisticRegression:\")\n",
    "print(confusion_matrix(y_test, y_predict))\n",
    "print(classification_report(y_test, y_predict))\n",
    "accuracy_LR = accuracy_score(y_test,  y_predict)\n",
    "print('Prediction accuracy',accuracy_LR*100,'%')\n",
    "print('Train score' , LR.score(X_train, y_train))\n",
    "print(\"-------------------------------------\")"
   ]
  },
  {
   "cell_type": "code",
   "execution_count": 13,
   "metadata": {},
   "outputs": [
    {
     "data": {
      "text/plain": [
       "Text(0.5, 1.0, 'Results of LogisticRegression')"
      ]
     },
     "execution_count": 13,
     "metadata": {},
     "output_type": "execute_result"
    },
    {
     "data": {
      "image/png": "[encoded data removed]",
      "text/plain": [
       "<Figure size 640x480 with 1 Axes>"
      ]
     },
     "metadata": {},
     "output_type": "display_data"
    }
   ],
   "source": [
    "ypred_LR = LR.predict(test_final)\n",
    "output_LR = pd.DataFrame({'id':range(250, 20000),'target': ypred_LR})\n",
    "output_LR.to_csv('submission_LR.csv', index=False)\n",
    "output_LR['target'].hist().set_title(\"Results of LogisticRegression\")"
   ]
  },
  {
   "cell_type": "code",
   "execution_count": null,
   "metadata": {},
   "outputs": [],
   "source": []
  }
 ],
 "metadata": {
  "kernelspec": {
   "display_name": "Python 3 (ipykernel)",
   "language": "python",
   "name": "python3"
  },
  "language_info": {
   "codemirror_mode": {
    "name": "ipython",
    "version": 3
   },
   "file_extension": ".py",
   "mimetype": "text/x-python",
   "name": "python",
   "nbconvert_exporter": "python",
   "pygments_lexer": "ipython3",
   "version": "3.10.6"
  },
  "vscode": {
   "interpreter": {
    "hash": "6973a4e7042c0c9eb97e30a4a41b69225749226c07967c481ae41b1f229fa088"
   }
  }
 },
 "nbformat": 4,
 "nbformat_minor": 2
}
